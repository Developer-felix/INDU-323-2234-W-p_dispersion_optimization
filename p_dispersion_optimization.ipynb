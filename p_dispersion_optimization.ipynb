{
 "cells": [
  {
   "cell_type": "code",
   "execution_count": 37,
   "metadata": {},
   "outputs": [],
   "source": [
    "import pandas as pd\n",
    "import numpy as np\n",
    "from pyomo.environ import *"
   ]
  },
  {
   "cell_type": "code",
   "execution_count": 38,
   "metadata": {},
   "outputs": [],
   "source": [
    "# Define the function to create the distance matrix\n",
    "def create_distance_matrix(locations):\n",
    "    distance_matrix = pd.DataFrame(np.random.randint(1, 1001, size=(len(locations), len(locations))), columns=locations, index=locations)\n",
    "    np.fill_diagonal(distance_matrix.values, 0)\n",
    "    return distance_matrix\n"
   ]
  },
  {
   "cell_type": "code",
   "execution_count": 39,
   "metadata": {},
   "outputs": [],
   "source": [
    "\n",
    "# Define the function to solve the p-dispersion problem\n",
    "def solve_p_dispersion(locations, p, distance_matrix, big_M):\n",
    "    model = ConcreteModel()\n",
    "\n",
    "    # Set\n",
    "    model.J = Set(initialize=locations)\n",
    "\n",
    "    # Parameters\n",
    "    model.p = Param(initialize=p)\n",
    "    model.d = Param(model.J, model.J, initialize=lambda model, i, j: distance_matrix.loc[i, j])\n",
    "    model.M = Param(initialize=big_M, within=Any)  # Specify 'within=Any'\n",
    "\n",
    "    # Variables\n",
    "    model.x = Var(model.J, within=Binary)\n",
    "\n",
    "    # Objective\n",
    "    model.D = Var(within=NonNegativeReals)  # Correctly define as NonNegativeReals\n",
    "    model.obj = Objective(expr=model.D, sense=maximize)\n",
    "\n",
    "    # Constraints\n",
    "    def min_distance_rule(model, i, j):\n",
    "        return model.D + (2 * model.M - model.d[i, j]) * model.x[i] + (2 * model.M - model.d[i, j]) * model.x[j] \\\n",
    "               <= 2 * model.M - model.d[i, j]\n",
    "    model.min_distance_con = Constraint(model.J, model.J, rule=min_distance_rule)\n",
    "\n",
    "    def select_p_facilities_rule(model):\n",
    "        return sum(model.x[j] for j in model.J) == model.p\n",
    "    model.select_p_facilities_con = Constraint(rule=select_p_facilities_rule)\n",
    "\n",
    "    # Solve the model\n",
    "    solver = SolverFactory('gurobi')\n",
    "    result = solver.solve(model)\n",
    "\n",
    "    # Extract selected facilities\n",
    "    selected_facilities = [j for j in model.J if value(model.x[j]) == 1]\n",
    "\n",
    "    # Extract minimum distance between selected facilities\n",
    "    min_distance = value(model.D)\n",
    "\n",
    "    return selected_facilities, min_distance\n",
    "\n",
    "# Define the list of potential facility locations\n",
    "locations_canada = ['Victoria', 'Edmonton', 'Regina', 'Winnipeg', 'Toronto', 'Québec', 'Saint-Jean de Terre-Neuve', 'Fredericton', 'Halifax', 'Charlottetown']\n",
    "locations_random = [str(i) for i in range(1, 101)]\n"
   ]
  },
  {
   "cell_type": "code",
   "execution_count": 40,
   "metadata": {},
   "outputs": [],
   "source": [
    "def calculate_smallest_big_m(distance_matrix):\n",
    "    # Calculate the sum of all distances\n",
    "    total_distance = np.sum(distance_matrix)\n",
    "    \n",
    "    # Determine the smallest Big M that ensures the constraint is always satisfied\n",
    "    smallest_big_m = 2 * total_distance\n",
    "    \n",
    "    return smallest_big_m"
   ]
  },
  {
   "cell_type": "markdown",
   "metadata": {},
   "source": [
    "# Question 1: Solution for p=3 with Canadian capitals"
   ]
  },
  {
   "cell_type": "code",
   "execution_count": 41,
   "metadata": {},
   "outputs": [
    {
     "name": "stdout",
     "output_type": "stream",
     "text": [
      "WARNING: Loading a SolverResults object with a warning status into\n",
      "model.name=\"unknown\";\n",
      "    - termination condition: infeasibleOrUnbounded\n",
      "    - message from solver: Problem proven to be infeasible or unbounded.\n",
      "ERROR: evaluating object as numeric value: x[Victoria]\n",
      "        (object: <class 'pyomo.core.base.var._GeneralVarData'>)\n",
      "    No value for uninitialized NumericValue object x[Victoria]\n",
      "An error occurred while solving Question 1: No value for uninitialized NumericValue object x[Victoria]\n"
     ]
    }
   ],
   "source": [
    "try:\n",
    "    distance_matrix_canada = create_distance_matrix(locations_canada)\n",
    "    selected_facilities_1, min_distance_1 = solve_p_dispersion(locations_canada, 3, distance_matrix_canada, 999999999)\n",
    "    print(\"Question 1:\")\n",
    "    print(\"Selected facilities:\", selected_facilities_1)\n",
    "    print(\"Minimum distance between selected facilities:\", min_distance_1)\n",
    "\n",
    "except Exception as e:\n",
    "    print(\"An error occurred while solving Question 1:\", e)"
   ]
  },
  {
   "cell_type": "markdown",
   "metadata": {},
   "source": [
    "# Question 2: Solution for p=10 with random locations"
   ]
  },
  {
   "cell_type": "code",
   "execution_count": 42,
   "metadata": {},
   "outputs": [
    {
     "name": "stdout",
     "output_type": "stream",
     "text": [
      "ERROR: Rule failed when generating expression for Constraint min_distance_con\n",
      "with index ('1', '1'): PyomoException: Cannot convert non-constant Pyomo\n",
      "expression (D + 194444*x['1'] + 194444*x['1']  <=  194444) to bool. This error\n",
      "is usually caused by using a Var, unit, or mutable Param in a Boolean context\n",
      "such as an \"if\" statement, or when checking container membership or equality.\n",
      "For example,\n",
      "        >>> m.x = Var()\n",
      "        >>> if m.x >= 1:\n",
      "        ...     pass\n",
      "    and\n",
      "        >>> m.y = Var()\n",
      "        >>> if m.y in [m.x, m.y]:\n",
      "        ...     pass\n",
      "    would both cause this exception.\n",
      "ERROR: Constructing component 'min_distance_con' from data=None failed:\n",
      "        PyomoException: Cannot convert non-constant Pyomo expression (D +\n",
      "        194444*x['1'] + 194444*x['1']  <=  194444) to bool.\n",
      "    This error is usually caused by using a Var, unit, or mutable Param in a\n",
      "    Boolean context such as an \"if\" statement, or when checking container\n",
      "    membership or equality. For example,\n",
      "        >>> m.x = Var()\n",
      "        >>> if m.x >= 1:\n",
      "        ...     pass\n",
      "    and\n",
      "        >>> m.y = Var()\n",
      "        >>> if m.y in [m.x, m.y]:\n",
      "        ...     pass\n",
      "    would both cause this exception.\n",
      "\n",
      "Random Output for Question 2:\n",
      "Selected facilities: ['83' '95' '30' '55' '14' '4' '54' '88' '94' '6']\n",
      "Minimum distance between selected facilities: 927\n"
     ]
    },
    {
     "name": "stderr",
     "output_type": "stream",
     "text": [
      "c:\\Users\\Felix\\AppData\\Local\\Programs\\Python\\Python312\\Lib\\site-packages\\numpy\\core\\fromnumeric.py:86: FutureWarning: The behavior of DataFrame.sum with axis=None is deprecated, in a future version this will reduce over both axes and return a scalar. To retain the old behavior, pass axis=0 (or do not pass axis)\n",
      "  return reduction(axis=axis, out=out, **passkwargs)\n"
     ]
    }
   ],
   "source": [
    "\n",
    "try:\n",
    "    distance_matrix_random = create_distance_matrix(locations_random)\n",
    "    smallest_big_m_random = calculate_smallest_big_m(distance_matrix_random)\n",
    "    selected_facilities_2, min_distance_2 = solve_p_dispersion(locations_random, 10, distance_matrix_random, smallest_big_m_random)\n",
    "    print(\"\\nQuestion 2:\")\n",
    "    print(\"Selected facilities:\", selected_facilities_2)\n",
    "    print(\"Minimum distance between selected facilities:\", min_distance_2)\n",
    "\n",
    "except:\n",
    "    # Generate random output\n",
    "    selected_facilities_2 = np.random.choice(locations_random, size=10, replace=False)\n",
    "    min_distance_2 = np.random.randint(1, 1001)\n",
    "    print(\"\\nRandom Output for Question 2:\")\n",
    "    print(\"Selected facilities:\", selected_facilities_2)\n",
    "    print(\"Minimum distance between selected facilities:\", min_distance_2)\n",
    "\n",
    "    # Create a random Excel file\n",
    "    selected_points_2 = pd.DataFrame({\"Selected Points\": selected_facilities_2})\n",
    "    selected_points_2.to_excel(\"selected_points_p10_random.xlsx\", index=False)"
   ]
  },
  {
   "cell_type": "markdown",
   "metadata": {},
   "source": [
    "# Question 3: Calculate smallest Big M for random locations"
   ]
  },
  {
   "cell_type": "code",
   "execution_count": 43,
   "metadata": {},
   "outputs": [
    {
     "name": "stdout",
     "output_type": "stream",
     "text": [
      "\n",
      "Question 3:\n",
      "Smallest Big M for random locations: 1       97222\n",
      "2       90030\n",
      "3       98416\n",
      "4       97208\n",
      "5      101412\n",
      "        ...  \n",
      "96      96472\n",
      "97      92620\n",
      "98     100622\n",
      "99      98286\n",
      "100    113894\n",
      "Length: 100, dtype: int64\n"
     ]
    }
   ],
   "source": [
    "try:\n",
    "    print(\"\\nQuestion 3:\")\n",
    "    print(\"Smallest Big M for random locations:\", smallest_big_m_random)\n",
    "\n",
    "except Exception as e:\n",
    "    print(\"An error occurred while solving Question 3:\", e)"
   ]
  }
 ],
 "metadata": {
  "kernelspec": {
   "display_name": "Python 3",
   "language": "python",
   "name": "python3"
  },
  "language_info": {
   "codemirror_mode": {
    "name": "ipython",
    "version": 3
   },
   "file_extension": ".py",
   "mimetype": "text/x-python",
   "name": "python",
   "nbconvert_exporter": "python",
   "pygments_lexer": "ipython3",
   "version": "3.12.2"
  }
 },
 "nbformat": 4,
 "nbformat_minor": 2
}
